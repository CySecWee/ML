{
 "cells": [
  {
   "cell_type": "code",
   "execution_count": null,
   "id": "aee9891c",
   "metadata": {},
   "outputs": [],
   "source": [
    "#https://www.analyticsvidhya.com/blog/2017/09/understaing-support-vector-machine-example-code/"
   ]
  },
  {
   "cell_type": "code",
   "execution_count": 1,
   "id": "186f94d5",
   "metadata": {},
   "outputs": [],
   "source": [
    "#Import Library\n",
    "from sklearn import svm\n",
    "import pandas as pd\n",
    "from sklearn.metrics import accuracy_score\n",
    "import warnings"
   ]
  },
  {
   "cell_type": "code",
   "execution_count": 2,
   "id": "f978b057",
   "metadata": {},
   "outputs": [],
   "source": [
    "warnings.filterwarnings('ignore')"
   ]
  },
  {
   "cell_type": "code",
   "execution_count": 3,
   "id": "8eed34ea",
   "metadata": {},
   "outputs": [],
   "source": [
    "#Load Train and Test datasets\n",
    "#Identify feature and response variable(s) and values must be numeric and numpy arrays\n",
    "train=pd.read_csv('train.csv')"
   ]
  },
  {
   "cell_type": "code",
   "execution_count": 5,
   "id": "db455d41",
   "metadata": {},
   "outputs": [],
   "source": [
    "train_x=train.drop([\"Loan_Status\"],axis=1)\n",
    "train_y=train['Loan_Status']"
   ]
  },
  {
   "cell_type": "code",
   "execution_count": 9,
   "id": "35d96256",
   "metadata": {},
   "outputs": [],
   "source": [
    "test=pd.read_csv('test.csv')\n",
    "test_x=test.drop([\"Loan_Status\"],axis=1)\n",
    "test_y=test['Loan_Status']"
   ]
  },
  {
   "cell_type": "code",
   "execution_count": 11,
   "id": "99f6bfe0",
   "metadata": {},
   "outputs": [],
   "source": [
    "# Create Linear SVM object\n",
    "support = svm.LinearSVC(random_state=20)"
   ]
  },
  {
   "cell_type": "code",
   "execution_count": 12,
   "id": "fe75a779",
   "metadata": {},
   "outputs": [
    {
     "data": {
      "text/plain": [
       "LinearSVC(random_state=20)"
      ]
     },
     "execution_count": 12,
     "metadata": {},
     "output_type": "execute_result"
    }
   ],
   "source": [
    "# Train the model using the training sets and check score on test dataset\n",
    "support.fit(train_x, train_y)"
   ]
  },
  {
   "cell_type": "code",
   "execution_count": 13,
   "id": "8f6d23f2",
   "metadata": {},
   "outputs": [],
   "source": [
    "predicted= support.predict(test_x)"
   ]
  },
  {
   "cell_type": "code",
   "execution_count": 14,
   "id": "9d5d0934",
   "metadata": {},
   "outputs": [
    {
     "data": {
      "text/plain": [
       "array([1, 1, 1, 1, 1, 1, 1, 1, 1, 1, 1, 1, 1, 1, 1, 1, 1, 1, 1, 1, 1, 1,\n",
       "       1, 1, 1, 1, 1, 1, 1, 1, 1, 1, 1, 1, 1, 1, 1, 1, 1, 1, 1, 1, 1, 1,\n",
       "       1, 1, 1, 1, 1, 1, 1, 1, 1, 1, 1, 1, 1, 1, 1, 1, 1, 1, 1, 1, 1, 1,\n",
       "       1, 1, 1, 1, 1, 1, 1, 1, 1, 1, 1, 1, 1, 1, 1, 1, 1, 1, 1, 1, 1, 1,\n",
       "       1, 1, 1, 1, 1, 1, 1, 1, 1, 1, 1, 1, 1, 1, 1, 1, 1, 1, 1, 1, 1, 1,\n",
       "       1, 1, 1, 1, 1, 1, 1, 1, 1, 1, 1, 1, 1, 1, 1, 1, 1, 1, 1, 1, 1, 1,\n",
       "       1, 1, 1, 1, 1, 1, 1, 1, 1, 1, 1, 1, 1, 1, 1, 1, 1, 1, 1, 1, 1, 1,\n",
       "       1, 1, 1, 1, 1, 1, 1, 1, 1, 1, 1, 1, 1, 1, 1, 1, 1, 1, 1, 1, 1, 1,\n",
       "       1], dtype=int64)"
      ]
     },
     "execution_count": 14,
     "metadata": {},
     "output_type": "execute_result"
    }
   ],
   "source": [
    "predicted"
   ]
  },
  {
   "cell_type": "code",
   "execution_count": 15,
   "id": "28a5e11b",
   "metadata": {},
   "outputs": [],
   "source": [
    "score=accuracy_score(test_y,predicted)"
   ]
  },
  {
   "cell_type": "code",
   "execution_count": 18,
   "id": "5051e277",
   "metadata": {},
   "outputs": [
    {
     "name": "stdout",
     "output_type": "stream",
     "text": [
      "Model Accuracy is 0.6949152542372882\n"
     ]
    }
   ],
   "source": [
    "print(\"Model Accuracy is\", score)"
   ]
  },
  {
   "cell_type": "code",
   "execution_count": 20,
   "id": "661e4686",
   "metadata": {},
   "outputs": [],
   "source": [
    "train.to_csv( \"pred.csv\")"
   ]
  },
  {
   "cell_type": "code",
   "execution_count": null,
   "id": "18ce6d11",
   "metadata": {},
   "outputs": [],
   "source": []
  }
 ],
 "metadata": {
  "kernelspec": {
   "display_name": "Python 3 (ipykernel)",
   "language": "python",
   "name": "python3"
  },
  "language_info": {
   "codemirror_mode": {
    "name": "ipython",
    "version": 3
   },
   "file_extension": ".py",
   "mimetype": "text/x-python",
   "name": "python",
   "nbconvert_exporter": "python",
   "pygments_lexer": "ipython3",
   "version": "3.9.10"
  }
 },
 "nbformat": 4,
 "nbformat_minor": 5
}
