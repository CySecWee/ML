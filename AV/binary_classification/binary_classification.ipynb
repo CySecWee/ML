{
 "cells": [
  {
   "cell_type": "code",
   "execution_count": null,
   "id": "4e44964f",
   "metadata": {},
   "outputs": [],
   "source": [
    "#https://www.analyticsvidhya.com/blog/2021/09/a-complete-guide-to-understand-classification-in-machine-learning/"
   ]
  },
  {
   "cell_type": "code",
   "execution_count": 16,
   "id": "a991e819",
   "metadata": {},
   "outputs": [],
   "source": [
    "from numpy import where\n",
    "from collections import Counter\n",
    "from sklearn.datasets import make_blobs\n",
    "from matplotlib import pyplot"
   ]
  },
  {
   "cell_type": "code",
   "execution_count": 15,
   "id": "fbf0591e",
   "metadata": {},
   "outputs": [],
   "source": [
    "#use the make_blob() function of the scikit-learn module to generate a binary classification dataset."
   ]
  },
  {
   "cell_type": "code",
   "execution_count": 3,
   "id": "0c6b94b3",
   "metadata": {},
   "outputs": [],
   "source": [
    "X, y = make_blobs(n_samples=5000, centers=2, random_state=1)"
   ]
  },
  {
   "cell_type": "code",
   "execution_count": 4,
   "id": "243668cb",
   "metadata": {},
   "outputs": [
    {
     "name": "stdout",
     "output_type": "stream",
     "text": [
      "(5000, 2) (5000,)\n"
     ]
    }
   ],
   "source": [
    "print(X.shape, y.shape)"
   ]
  },
  {
   "cell_type": "code",
   "execution_count": 7,
   "id": "21246167",
   "metadata": {},
   "outputs": [
    {
     "data": {
      "text/plain": [
       "array([-11.5739555,  -3.2062213])"
      ]
     },
     "execution_count": 7,
     "metadata": {},
     "output_type": "execute_result"
    }
   ],
   "source": [
    "X[0]"
   ]
  },
  {
   "cell_type": "code",
   "execution_count": 8,
   "id": "03b671ce",
   "metadata": {},
   "outputs": [
    {
     "data": {
      "text/plain": [
       "array([1, 0, 0, ..., 0, 1, 0])"
      ]
     },
     "execution_count": 8,
     "metadata": {},
     "output_type": "execute_result"
    }
   ],
   "source": [
    "y"
   ]
  },
  {
   "cell_type": "code",
   "execution_count": 9,
   "id": "ff6ff6e3",
   "metadata": {},
   "outputs": [
    {
     "name": "stdout",
     "output_type": "stream",
     "text": [
      "Counter({1: 2500, 0: 2500})\n"
     ]
    }
   ],
   "source": [
    "counter = Counter(y)\n",
    "print(counter)"
   ]
  },
  {
   "cell_type": "code",
   "execution_count": 10,
   "id": "d72ad97f",
   "metadata": {},
   "outputs": [
    {
     "name": "stdout",
     "output_type": "stream",
     "text": [
      "[-11.5739555  -3.2062213] 1\n",
      "[0.05752883 3.60221288] 0\n",
      "[-1.03619773  3.97153319] 0\n",
      "[-8.22983437 -3.54309524] 1\n",
      "[-10.49210036  -4.70600004] 1\n",
      "[-10.74348914  -5.9057007 ] 1\n",
      "[-3.20386867  4.51629714] 0\n",
      "[-1.98063705  4.9672959 ] 0\n",
      "[-8.61268072 -3.6579652 ] 1\n",
      "[-10.54840697  -2.91203705] 1\n"
     ]
    }
   ],
   "source": [
    "for i in range(10):\n",
    "\tprint(X[i], y[i])"
   ]
  },
  {
   "cell_type": "code",
   "execution_count": 11,
   "id": "862204fa",
   "metadata": {},
   "outputs": [
    {
     "data": {
      "image/png": "[encoded data removed]",
      "text/plain": [
       "<Figure size 432x288 with 1 Axes>"
      ]
     },
     "metadata": {
      "needs_background": "light"
     },
     "output_type": "display_data"
    }
   ],
   "source": [
    "for label, _ in counter.items():\n",
    "\trow_ix = where(y == label)[0]\n",
    "\tpyplot.scatter(X[row_ix, 0], X[row_ix, 1], label=str(label))"
   ]
  },
  {
   "cell_type": "code",
   "execution_count": null,
   "id": "ce84e63f",
   "metadata": {},
   "outputs": [],
   "source": []
  }
 ],
 "metadata": {
  "kernelspec": {
   "display_name": "Python 3 (ipykernel)",
   "language": "python",
   "name": "python3"
  },
  "language_info": {
   "codemirror_mode": {
    "name": "ipython",
    "version": 3
   },
   "file_extension": ".py",
   "mimetype": "text/x-python",
   "name": "python",
   "nbconvert_exporter": "python",
   "pygments_lexer": "ipython3",
   "version": "3.9.10"
  }
 },
 "nbformat": 4,
 "nbformat_minor": 5
}
