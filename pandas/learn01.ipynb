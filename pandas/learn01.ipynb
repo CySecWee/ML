{
 "cells": [
  {
   "cell_type": "code",
   "execution_count": 1,
   "id": "8d9f525d",
   "metadata": {},
   "outputs": [],
   "source": [
    "import pandas as pd\n",
    "import numpy as np\n"
   ]
  },
  {
   "cell_type": "code",
   "execution_count": 2,
   "id": "00a5e8d0",
   "metadata": {},
   "outputs": [],
   "source": [
    "# Let's create a Index object\n",
    "pd_index = pd.Index(['index1','index2','index3'],name='index')"
   ]
  },
  {
   "cell_type": "code",
   "execution_count": 3,
   "id": "63967b34",
   "metadata": {},
   "outputs": [
    {
     "data": {
      "text/plain": [
       "Index(['index1', 'index2', 'index3'], dtype='object', name='index')"
      ]
     },
     "execution_count": 3,
     "metadata": {},
     "output_type": "execute_result"
    }
   ],
   "source": [
    "pd_index"
   ]
  },
  {
   "cell_type": "code",
   "execution_count": 4,
   "id": "45bab236",
   "metadata": {},
   "outputs": [
    {
     "data": {
      "text/plain": [
       "array(['index1', 'index2', 'index3'], dtype=object)"
      ]
     },
     "execution_count": 4,
     "metadata": {},
     "output_type": "execute_result"
    }
   ],
   "source": [
    "# Important attributes that can help to understand Index object\n",
    "pd_index.values"
   ]
  },
  {
   "cell_type": "code",
   "execution_count": 5,
   "id": "6601e719",
   "metadata": {},
   "outputs": [
    {
     "data": {
      "text/plain": [
       "'index'"
      ]
     },
     "execution_count": 5,
     "metadata": {},
     "output_type": "execute_result"
    }
   ],
   "source": [
    "pd_index.name"
   ]
  },
  {
   "cell_type": "code",
   "execution_count": 6,
   "id": "278a7177",
   "metadata": {},
   "outputs": [
    {
     "data": {
      "text/plain": [
       "dtype('O')"
      ]
     },
     "execution_count": 6,
     "metadata": {},
     "output_type": "execute_result"
    }
   ],
   "source": [
    "pd_index.dtype"
   ]
  },
  {
   "cell_type": "code",
   "execution_count": 7,
   "id": "47f82c64",
   "metadata": {},
   "outputs": [],
   "source": [
    "arrays = [['col1','col2','col3'],['lev1','lev2','lev3']]\n",
    "pd_MultiIndex = pd.MultiIndex.from_arrays(arrays,names=['col','lev'])"
   ]
  },
  {
   "cell_type": "code",
   "execution_count": 8,
   "id": "6e0c382c",
   "metadata": {},
   "outputs": [
    {
     "name": "stdout",
     "output_type": "stream",
     "text": [
      "MultiIndex([('col1', 'lev1'),\n",
      "            ('col2', 'lev2'),\n",
      "            ('col3', 'lev3')],\n",
      "           names=['col', 'lev'])\n"
     ]
    }
   ],
   "source": [
    "print(pd_MultiIndex)"
   ]
  },
  {
   "cell_type": "code",
   "execution_count": 10,
   "id": "78b93701",
   "metadata": {},
   "outputs": [
    {
     "data": {
      "text/plain": [
       "FrozenList(['col', 'lev'])"
      ]
     },
     "execution_count": 10,
     "metadata": {},
     "output_type": "execute_result"
    }
   ],
   "source": [
    "pd_MultiIndex.names"
   ]
  },
  {
   "cell_type": "code",
   "execution_count": 11,
   "id": "796230b9",
   "metadata": {},
   "outputs": [
    {
     "data": {
      "text/plain": [
       "FrozenList([['col1', 'col2', 'col3'], ['lev1', 'lev2', 'lev3']])"
      ]
     },
     "execution_count": 11,
     "metadata": {},
     "output_type": "execute_result"
    }
   ],
   "source": [
    "pd_MultiIndex.levels"
   ]
  },
  {
   "cell_type": "code",
   "execution_count": 12,
   "id": "5846018c",
   "metadata": {},
   "outputs": [
    {
     "data": {
      "text/plain": [
       "Index(['col1', 'col2', 'col3'], dtype='object', name='col')"
      ]
     },
     "execution_count": 12,
     "metadata": {},
     "output_type": "execute_result"
    }
   ],
   "source": [
    "pd_MultiIndex.levels[0]"
   ]
  },
  {
   "cell_type": "code",
   "execution_count": 13,
   "id": "a2d13ded",
   "metadata": {},
   "outputs": [
    {
     "data": {
      "text/plain": [
       "Index(['lev1', 'lev2', 'lev3'], dtype='object', name='lev')"
      ]
     },
     "execution_count": 13,
     "metadata": {},
     "output_type": "execute_result"
    }
   ],
   "source": [
    "pd_MultiIndex.levels[1]"
   ]
  },
  {
   "cell_type": "code",
   "execution_count": null,
   "id": "e884e9d8",
   "metadata": {},
   "outputs": [],
   "source": []
  }
 ],
 "metadata": {
  "kernelspec": {
   "display_name": "Python 3 (ipykernel)",
   "language": "python",
   "name": "python3"
  },
  "language_info": {
   "codemirror_mode": {
    "name": "ipython",
    "version": 3
   },
   "file_extension": ".py",
   "mimetype": "text/x-python",
   "name": "python",
   "nbconvert_exporter": "python",
   "pygments_lexer": "ipython3",
   "version": "3.9.10"
  }
 },
 "nbformat": 4,
 "nbformat_minor": 5
}
