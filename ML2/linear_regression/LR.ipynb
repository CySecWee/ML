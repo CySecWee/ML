{
 "cells": [
  {
   "cell_type": "markdown",
   "id": "efb40109",
   "metadata": {},
   "source": [
    "#Linear regression attempts to model the relationship between two variables by fitting a linear equation to observed data. \n",
    "#One variable is considered to be an explanatory variable, and the other is considered to be a dependent variable.  "
   ]
  },
  {
   "cell_type": "code",
   "execution_count": 15,
   "id": "f0b790dd",
   "metadata": {},
   "outputs": [],
   "source": [
    "import numpy as np\n",
    "import pandas as pd\n",
    "\n",
    "# to visualization purposes\n",
    "import matplotlib.pyplot as plt\n",
    "\n",
    "# to build linear model\n",
    "from sklearn.linear_model import LinearRegression"
   ]
  },
  {
   "cell_type": "code",
   "execution_count": 14,
   "id": "41193948",
   "metadata": {},
   "outputs": [],
   "source": [
    "# load dataset\n",
    "data = pd.read_csv('Book.csv')"
   ]
  },
  {
   "cell_type": "code",
   "execution_count": 7,
   "id": "e6c86314",
   "metadata": {},
   "outputs": [
    {
     "data": {
      "text/html": [
       "<div>\n",
       "<style scoped>\n",
       "    .dataframe tbody tr th:only-of-type {\n",
       "        vertical-align: middle;\n",
       "    }\n",
       "\n",
       "    .dataframe tbody tr th {\n",
       "        vertical-align: top;\n",
       "    }\n",
       "\n",
       "    .dataframe thead th {\n",
       "        text-align: right;\n",
       "    }\n",
       "</style>\n",
       "<table border=\"1\" class=\"dataframe\">\n",
       "  <thead>\n",
       "    <tr style=\"text-align: right;\">\n",
       "      <th></th>\n",
       "      <th>Unnamed: 0</th>\n",
       "      <th>videos</th>\n",
       "      <th>views</th>\n",
       "    </tr>\n",
       "  </thead>\n",
       "  <tbody>\n",
       "    <tr>\n",
       "      <th>0</th>\n",
       "      <td>channel1</td>\n",
       "      <td>30</td>\n",
       "      <td>34000</td>\n",
       "    </tr>\n",
       "    <tr>\n",
       "      <th>1</th>\n",
       "      <td>channel2</td>\n",
       "      <td>40</td>\n",
       "      <td>41000</td>\n",
       "    </tr>\n",
       "    <tr>\n",
       "      <th>2</th>\n",
       "      <td>channel3</td>\n",
       "      <td>50</td>\n",
       "      <td>42500</td>\n",
       "    </tr>\n",
       "    <tr>\n",
       "      <th>3</th>\n",
       "      <td>channel4</td>\n",
       "      <td>60</td>\n",
       "      <td>54300</td>\n",
       "    </tr>\n",
       "    <tr>\n",
       "      <th>4</th>\n",
       "      <td>channel5</td>\n",
       "      <td>70</td>\n",
       "      <td>56000</td>\n",
       "    </tr>\n",
       "  </tbody>\n",
       "</table>\n",
       "</div>"
      ],
      "text/plain": [
       "  Unnamed: 0  videos  views\n",
       "0   channel1      30  34000\n",
       "1   channel2      40  41000\n",
       "2   channel3      50  42500\n",
       "3   channel4      60  54300\n",
       "4   channel5      70  56000"
      ]
     },
     "execution_count": 7,
     "metadata": {},
     "output_type": "execute_result"
    }
   ],
   "source": [
    "data"
   ]
  },
  {
   "cell_type": "code",
   "execution_count": 8,
   "id": "3b342f21",
   "metadata": {},
   "outputs": [
    {
     "data": {
      "text/plain": [
       "Text(0, 0.5, 'Total Views')"
      ]
     },
     "execution_count": 8,
     "metadata": {},
     "output_type": "execute_result"
    },
    {
     "data": {
      "image/png": "[encoded data removed]",
      "text/plain": [
       "<Figure size 432x288 with 1 Axes>"
      ]
     },
     "metadata": {
      "needs_background": "light"
     },
     "output_type": "display_data"
    }
   ],
   "source": [
    "# view data points\n",
    "plt.scatter(data.videos, data.views, color='red')\n",
    "plt.xlabel('Number of Videos')\n",
    "plt.ylabel('Total Views')"
   ]
  },
  {
   "cell_type": "code",
   "execution_count": 10,
   "id": "14293fe4",
   "metadata": {},
   "outputs": [
    {
     "data": {
      "text/plain": [
       "0    30\n",
       "1    40\n",
       "2    50\n",
       "3    60\n",
       "4    70\n",
       "Name: videos, dtype: int64"
      ]
     },
     "execution_count": 10,
     "metadata": {},
     "output_type": "execute_result"
    }
   ],
   "source": [
    "# see single columns from dataset as a pandas series\n",
    "data.videos\n",
    "# or we can use \"data['videos']\""
   ]
  },
  {
   "cell_type": "code",
   "execution_count": 11,
   "id": "cbe74d55",
   "metadata": {},
   "outputs": [
    {
     "data": {
      "text/plain": [
       "0    34000\n",
       "1    41000\n",
       "2    42500\n",
       "3    54300\n",
       "4    56000\n",
       "Name: views, dtype: int64"
      ]
     },
     "execution_count": 11,
     "metadata": {},
     "output_type": "execute_result"
    }
   ],
   "source": [
    "data['views']"
   ]
  },
  {
   "cell_type": "code",
   "execution_count": 12,
   "id": "12ad5ad0",
   "metadata": {},
   "outputs": [],
   "source": [
    "# divide dataset into x and y\n",
    "x = np.array(data.videos.values)\n",
    "y = np.array(data.views.values)"
   ]
  },
  {
   "cell_type": "code",
   "execution_count": 21,
   "id": "2e87024e",
   "metadata": {},
   "outputs": [
    {
     "data": {
      "text/plain": [
       "LinearRegression()"
      ]
     },
     "execution_count": 21,
     "metadata": {},
     "output_type": "execute_result"
    }
   ],
   "source": [
    "# build and train ML model\n",
    "model = LinearRegression()\n",
    "model.fit(x.reshape((-1,1)), y)"
   ]
  },
  {
   "cell_type": "code",
   "execution_count": 22,
   "id": "c1bd6299",
   "metadata": {},
   "outputs": [],
   "source": [
    "#Note: In here, we don't use training and testing set. "
   ]
  },
  {
   "cell_type": "code",
   "execution_count": 23,
   "id": "8965afac",
   "metadata": {},
   "outputs": [],
   "source": [
    "# assign a value to predict from our model\n",
    "new_x = np.array([45]).reshape((-1,1))"
   ]
  },
  {
   "cell_type": "code",
   "execution_count": 24,
   "id": "511794af",
   "metadata": {},
   "outputs": [
    {
     "data": {
      "text/plain": [
       "array([[45]])"
      ]
     },
     "execution_count": 24,
     "metadata": {},
     "output_type": "execute_result"
    }
   ],
   "source": [
    "new_x"
   ]
  },
  {
   "cell_type": "code",
   "execution_count": 25,
   "id": "e3869f4c",
   "metadata": {},
   "outputs": [
    {
     "data": {
      "text/plain": [
       "array([42695.])"
      ]
     },
     "execution_count": 25,
     "metadata": {},
     "output_type": "execute_result"
    }
   ],
   "source": [
    "# predict from model\n",
    "pred = model.predict(new_x)\n",
    "pred"
   ]
  },
  {
   "cell_type": "code",
   "execution_count": null,
   "id": "9122f1db",
   "metadata": {},
   "outputs": [],
   "source": [
    "# visualize our linear model\n",
    "plt.scatter(data.videos, data.views, color='red')\n",
    "m, c = np.polyfit(x, y, 1)\n",
    "plt.plot(x, m*x+c)"
   ]
  }
 ],
 "metadata": {
  "kernelspec": {
   "display_name": "Python 3 (ipykernel)",
   "language": "python",
   "name": "python3"
  },
  "language_info": {
   "codemirror_mode": {
    "name": "ipython",
    "version": 3
   },
   "file_extension": ".py",
   "mimetype": "text/x-python",
   "name": "python",
   "nbconvert_exporter": "python",
   "pygments_lexer": "ipython3",
   "version": "3.9.10"
  }
 },
 "nbformat": 4,
 "nbformat_minor": 5
}
